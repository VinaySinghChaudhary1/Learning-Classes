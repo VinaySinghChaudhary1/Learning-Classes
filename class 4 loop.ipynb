{
 "cells": [
  {
   "cell_type": "code",
   "execution_count": 1,
   "id": "d7e2040b-7376-4d1c-b13d-9986d85c9037",
   "metadata": {},
   "outputs": [],
   "source": [
    "#.....Loop"
   ]
  },
  {
   "cell_type": "code",
   "execution_count": 2,
   "id": "37dc8714-b83d-456f-b69b-4bac8e81b15e",
   "metadata": {},
   "outputs": [],
   "source": [
    "l=[1,2,3,4,5]"
   ]
  },
  {
   "cell_type": "code",
   "execution_count": 4,
   "id": "bc1f797d-af9c-4b0a-87d7-1cf0a5c7190d",
   "metadata": {},
   "outputs": [
    {
     "name": "stdout",
     "output_type": "stream",
     "text": [
      "1 <class 'int'>\n",
      "2 <class 'int'>\n",
      "3 <class 'int'>\n",
      "4 <class 'int'>\n",
      "5 <class 'int'>\n"
     ]
    }
   ],
   "source": [
    "for i in l:\n",
    "    print(i,type(i))"
   ]
  },
  {
   "cell_type": "code",
   "execution_count": 5,
   "id": "da99cf83-bc16-4b8d-966a-7b82093a429c",
   "metadata": {},
   "outputs": [],
   "source": [
    "l1=['vibay','vivek','Vikash']"
   ]
  },
  {
   "cell_type": "code",
   "execution_count": 7,
   "id": "107178ed-f0ee-4a1a-ad67-13741d4a513c",
   "metadata": {},
   "outputs": [
    {
     "name": "stdout",
     "output_type": "stream",
     "text": [
      "vibay <class 'str'>\n",
      "vivek <class 'str'>\n",
      "Vikash <class 'str'>\n"
     ]
    }
   ],
   "source": [
    "for i in l1:\n",
    "    print(i,type(i))"
   ]
  },
  {
   "cell_type": "code",
   "execution_count": 8,
   "id": "5d007226-ddba-45aa-bfa8-b071f3f27425",
   "metadata": {},
   "outputs": [
    {
     "name": "stdout",
     "output_type": "stream",
     "text": [
      "vibay\n",
      "vivek\n",
      "Vikash\n",
      "do something\n"
     ]
    }
   ],
   "source": [
    "for i in l1:\n",
    "    print(i)\n",
    "else :\n",
    "    print('do something')"
   ]
  },
  {
   "cell_type": "code",
   "execution_count": 10,
   "id": "3a9e1db2-2ebe-4c36-88a7-18aa71a4da2a",
   "metadata": {},
   "outputs": [
    {
     "name": "stdout",
     "output_type": "stream",
     "text": [
      "vibay\n"
     ]
    }
   ],
   "source": [
    "for i in l1:\n",
    "    if i == 'vivek':\n",
    "        break\n",
    "    print(i)\n"
   ]
  },
  {
   "cell_type": "code",
   "execution_count": 17,
   "id": "255d70be-5d43-4278-8000-ef8c76f53fc6",
   "metadata": {},
   "outputs": [
    {
     "name": "stdout",
     "output_type": "stream",
     "text": [
      "execute this if for loop is able to complete itself\n"
     ]
    }
   ],
   "source": [
    "for i in l1:\n",
    "    if i == 'Kumar':\n",
    "        break\n",
    "else:\n",
    "    print('execute this if for loop is able to complete itself')"
   ]
  },
  {
   "cell_type": "code",
   "execution_count": 19,
   "id": "9c51f193-2c30-4d79-91a3-cca9bb300d7f",
   "metadata": {},
   "outputs": [],
   "source": [
    "for i in l1:\n",
    "    if i == 'vivek':\n",
    "        break\n",
    "else:\n",
    "    print('execute this if for loop is able to complete itself')"
   ]
  },
  {
   "cell_type": "code",
   "execution_count": 15,
   "id": "ac2c096b-9b28-46f2-9fc7-3f984d2b20a1",
   "metadata": {},
   "outputs": [
    {
     "name": "stdout",
     "output_type": "stream",
     "text": [
      "vibay\n",
      "Vikash\n"
     ]
    }
   ],
   "source": [
    "for i in l1:\n",
    "    if i == \"vivek\":\n",
    "        continue\n",
    "    print(i)"
   ]
  },
  {
   "cell_type": "code",
   "execution_count": 21,
   "id": "e30e3ddb-74a9-4bf4-8b10-56eb9d32e938",
   "metadata": {},
   "outputs": [
    {
     "name": "stdout",
     "output_type": "stream",
     "text": [
      "vibay\n",
      "Vikash\n",
      "execute this if for loop is able to complete itself\n"
     ]
    }
   ],
   "source": [
    "for i in l1:\n",
    "    if i == \"vivek\":\n",
    "        continue\n",
    "    print(i)\n",
    "else:\n",
    "    print('execute this if for loop is able to complete itself')"
   ]
  },
  {
   "cell_type": "code",
   "execution_count": 22,
   "id": "1f8ddf1d-88df-4251-bda9-e8e6c5b65655",
   "metadata": {},
   "outputs": [
    {
     "data": {
      "text/plain": [
       "range(0, 5)"
      ]
     },
     "execution_count": 22,
     "metadata": {},
     "output_type": "execute_result"
    }
   ],
   "source": [
    "range(5)"
   ]
  },
  {
   "cell_type": "code",
   "execution_count": 24,
   "id": "bd9e7a1c-ab55-45ea-a3af-73ae5635eea3",
   "metadata": {},
   "outputs": [
    {
     "data": {
      "text/plain": [
       "[0, 1, 2, 3, 4]"
      ]
     },
     "execution_count": 24,
     "metadata": {},
     "output_type": "execute_result"
    }
   ],
   "source": [
    "list(range(5))"
   ]
  },
  {
   "cell_type": "code",
   "execution_count": 25,
   "id": "206639ba-2e89-4635-acd5-5013b0fec6e9",
   "metadata": {},
   "outputs": [
    {
     "data": {
      "text/plain": [
       "range(0, 20, 2)"
      ]
     },
     "execution_count": 25,
     "metadata": {},
     "output_type": "execute_result"
    }
   ],
   "source": [
    "range(0,20,2)"
   ]
  },
  {
   "cell_type": "code",
   "execution_count": 26,
   "id": "6f8af636-c4df-4e9d-b43e-c790160a77b6",
   "metadata": {},
   "outputs": [],
   "source": [
    "l2=['apple','mango','banana','vikash','ravi']"
   ]
  },
  {
   "cell_type": "code",
   "execution_count": 27,
   "id": "da8a1923-a018-45f6-98bb-4433d3e2a6ff",
   "metadata": {},
   "outputs": [
    {
     "data": {
      "text/plain": [
       "[0, 2, 4, 6, 8, 10, 12, 14, 16, 18]"
      ]
     },
     "execution_count": 27,
     "metadata": {},
     "output_type": "execute_result"
    }
   ],
   "source": [
    "list(range(0,20,2))"
   ]
  },
  {
   "cell_type": "code",
   "execution_count": 28,
   "id": "37c0aefa-df12-458e-9924-bb0365e027b4",
   "metadata": {},
   "outputs": [
    {
     "data": {
      "text/plain": [
       "['apple', 'mango', 'banana', 'vikash', 'ravi']"
      ]
     },
     "execution_count": 28,
     "metadata": {},
     "output_type": "execute_result"
    }
   ],
   "source": [
    "l2"
   ]
  },
  {
   "cell_type": "code",
   "execution_count": 29,
   "id": "528f197c-7036-405d-aaa4-b7f0117bd2f5",
   "metadata": {},
   "outputs": [
    {
     "data": {
      "text/plain": [
       "[0, 1, 2, 3, 4]"
      ]
     },
     "execution_count": 29,
     "metadata": {},
     "output_type": "execute_result"
    }
   ],
   "source": [
    "list(range(len(l2)))\n"
   ]
  },
  {
   "cell_type": "code",
   "execution_count": 30,
   "id": "7c53a54c-de64-423a-814b-5263ccb6d6f7",
   "metadata": {},
   "outputs": [
    {
     "name": "stdout",
     "output_type": "stream",
     "text": [
      "apple\n",
      "mango\n",
      "banana\n",
      "vikash\n",
      "ravi\n"
     ]
    }
   ],
   "source": [
    "for i in range(len(l2)):\n",
    "    print(l2[i])\n"
   ]
  },
  {
   "cell_type": "code",
   "execution_count": 34,
   "id": "6aafbc45-2730-4930-8a45-e0902bd42981",
   "metadata": {},
   "outputs": [
    {
     "data": {
      "text/plain": [
       "[4, 3, 2]"
      ]
     },
     "execution_count": 34,
     "metadata": {},
     "output_type": "execute_result"
    }
   ],
   "source": [
    "list(range(len(l2)-1,1,-1))"
   ]
  },
  {
   "cell_type": "code",
   "execution_count": 35,
   "id": "ed08f85f-995a-4f81-bcb9-0899f56ee9d2",
   "metadata": {},
   "outputs": [
    {
     "data": {
      "text/plain": [
       "[4, 3, 2, 1]"
      ]
     },
     "execution_count": 35,
     "metadata": {},
     "output_type": "execute_result"
    }
   ],
   "source": [
    "list(range(len(l2)-1,0,-1))"
   ]
  },
  {
   "cell_type": "code",
   "execution_count": 37,
   "id": "a9330855-3aa1-4343-b213-0c8d0ceb1e1c",
   "metadata": {},
   "outputs": [
    {
     "name": "stdout",
     "output_type": "stream",
     "text": [
      "ravi\n",
      "vikash\n",
      "banana\n",
      "mango\n"
     ]
    }
   ],
   "source": [
    "for i in range(len(l2)-1,0,-1):\n",
    "    print(l2[i])"
   ]
  },
  {
   "cell_type": "code",
   "execution_count": 38,
   "id": "f0c77149-84f9-4d98-bdb8-803e5cf14895",
   "metadata": {},
   "outputs": [],
   "source": [
    "l3=[23,233,344,123.34,345,6765,256,90.3]"
   ]
  },
  {
   "cell_type": "code",
   "execution_count": 39,
   "id": "218f80de-5272-4bd6-b63f-6e16faa4c6f5",
   "metadata": {},
   "outputs": [
    {
     "data": {
      "text/plain": [
       "range(0, 8, 2)"
      ]
     },
     "execution_count": 39,
     "metadata": {},
     "output_type": "execute_result"
    }
   ],
   "source": [
    "range(0, len(l3), 2)"
   ]
  },
  {
   "cell_type": "code",
   "execution_count": 40,
   "id": "845855c5-9e87-4e59-a27f-2f6cf67df980",
   "metadata": {},
   "outputs": [
    {
     "data": {
      "text/plain": [
       "[0, 2, 4, 6]"
      ]
     },
     "execution_count": 40,
     "metadata": {},
     "output_type": "execute_result"
    }
   ],
   "source": [
    "list(range(0, len(l3), 2))"
   ]
  },
  {
   "cell_type": "code",
   "execution_count": 43,
   "id": "99d6877b-727e-4eda-b1ce-da99a102b778",
   "metadata": {},
   "outputs": [
    {
     "data": {
      "text/plain": [
       "[0, 1, 2, 3, 4, 5, 6, 7]"
      ]
     },
     "execution_count": 43,
     "metadata": {},
     "output_type": "execute_result"
    }
   ],
   "source": [
    "list(range(0, len(l3), 1))"
   ]
  },
  {
   "cell_type": "code",
   "execution_count": 45,
   "id": "426fbf5f-bd96-41af-a56a-9975c1b15950",
   "metadata": {},
   "outputs": [
    {
     "data": {
      "text/plain": [
       "[1, 3, 5, 7]"
      ]
     },
     "execution_count": 45,
     "metadata": {},
     "output_type": "execute_result"
    }
   ],
   "source": [
    "list(range(1, len(l3), 2))"
   ]
  },
  {
   "cell_type": "code",
   "execution_count": 42,
   "id": "68ef1635-508d-430d-b60d-cdcb9eb594c1",
   "metadata": {},
   "outputs": [
    {
     "name": "stdout",
     "output_type": "stream",
     "text": [
      "233\n",
      "233\n",
      "233\n",
      "233\n"
     ]
    }
   ],
   "source": [
    "for i in range(0, len(l3), 2):\n",
    "    print(l3[1])"
   ]
  },
  {
   "cell_type": "code",
   "execution_count": 46,
   "id": "17adfeae-60b9-40b6-878f-26174975cfd9",
   "metadata": {},
   "outputs": [],
   "source": [
    "l4=[1,2,34,455,33,]"
   ]
  },
  {
   "cell_type": "code",
   "execution_count": 47,
   "id": "858cdcbd-9707-41f3-99ef-637daf2218eb",
   "metadata": {},
   "outputs": [
    {
     "data": {
      "text/plain": [
       "525"
      ]
     },
     "execution_count": 47,
     "metadata": {},
     "output_type": "execute_result"
    }
   ],
   "source": [
    "sum(l4)"
   ]
  },
  {
   "cell_type": "code",
   "execution_count": 52,
   "id": "0fb2fc5b-ca23-44cd-ace7-67cda36b18d9",
   "metadata": {},
   "outputs": [
    {
     "data": {
      "text/plain": [
       "525"
      ]
     },
     "execution_count": 52,
     "metadata": {},
     "output_type": "execute_result"
    }
   ],
   "source": [
    "result = 0\n",
    "for i in l4:\n",
    "    result = result+i\n",
    "result"
   ]
  },
  {
   "cell_type": "code",
   "execution_count": 53,
   "id": "2aad16d6-e0a5-4669-8379-0b3be2cf8550",
   "metadata": {},
   "outputs": [
    {
     "name": "stdout",
     "output_type": "stream",
     "text": [
      "525\n"
     ]
    }
   ],
   "source": [
    "result = 0\n",
    "for i in l4:\n",
    "    result = result+i\n",
    "print(result)"
   ]
  },
  {
   "cell_type": "code",
   "execution_count": 54,
   "id": "2153148f-f807-4e7d-887e-9b60173ff781",
   "metadata": {},
   "outputs": [],
   "source": [
    "t =(1,2,3,4,4,5)"
   ]
  },
  {
   "cell_type": "code",
   "execution_count": 55,
   "id": "1f884dd1-41d4-491d-9eaa-904263e2f41c",
   "metadata": {},
   "outputs": [
    {
     "name": "stdout",
     "output_type": "stream",
     "text": [
      "1\n",
      "2\n",
      "3\n",
      "4\n",
      "4\n",
      "5\n"
     ]
    }
   ],
   "source": [
    "for i in t:\n",
    "    print(i)"
   ]
  },
  {
   "cell_type": "code",
   "execution_count": 56,
   "id": "a15ef829-2570-4a47-bca2-5680aeeda996",
   "metadata": {},
   "outputs": [],
   "source": [
    "s = {1,4,6,3,'sindh','vinay'}"
   ]
  },
  {
   "cell_type": "code",
   "execution_count": 57,
   "id": "a57d2b8b-2fc9-4573-82eb-99e53906ae7e",
   "metadata": {},
   "outputs": [
    {
     "name": "stdout",
     "output_type": "stream",
     "text": [
      "vinay\n",
      "1\n",
      "3\n",
      "4\n",
      "6\n",
      "sindh\n"
     ]
    }
   ],
   "source": [
    "for i in s:\n",
    "    print(i)"
   ]
  },
  {
   "cell_type": "code",
   "execution_count": 58,
   "id": "2f75e0f7-7aa7-4cc6-930b-de16b96f395e",
   "metadata": {},
   "outputs": [],
   "source": [
    "s1 = \"pwskills\""
   ]
  },
  {
   "cell_type": "code",
   "execution_count": 59,
   "id": "188203c0-91b0-43bb-a3e0-4ace318e12ff",
   "metadata": {},
   "outputs": [
    {
     "name": "stdout",
     "output_type": "stream",
     "text": [
      "p\n",
      "w\n",
      "s\n",
      "k\n",
      "i\n",
      "l\n",
      "l\n",
      "s\n"
     ]
    }
   ],
   "source": [
    "for i in s1:\n",
    "    print(i)"
   ]
  },
  {
   "cell_type": "code",
   "execution_count": 60,
   "id": "99b274ad-7ad2-4a97-b751-a214068c4f80",
   "metadata": {},
   "outputs": [],
   "source": [
    "d={'name':'Vinay','class':['python','stats','machine learning','interviews']}"
   ]
  },
  {
   "cell_type": "code",
   "execution_count": 61,
   "id": "780969a3-f01c-4cc2-ad47-47895b84fce7",
   "metadata": {},
   "outputs": [
    {
     "data": {
      "text/plain": [
       "dict_keys(['name', 'class'])"
      ]
     },
     "execution_count": 61,
     "metadata": {},
     "output_type": "execute_result"
    }
   ],
   "source": [
    "d.keys()"
   ]
  },
  {
   "cell_type": "code",
   "execution_count": 62,
   "id": "5b298439-4d4a-4382-9a2d-40693f8ba072",
   "metadata": {},
   "outputs": [
    {
     "name": "stdout",
     "output_type": "stream",
     "text": [
      "Vinay\n",
      "['python', 'stats', 'machine learning', 'interviews']\n"
     ]
    }
   ],
   "source": [
    "for i in d.keys():\n",
    "    print(d[i])"
   ]
  },
  {
   "cell_type": "code",
   "execution_count": 63,
   "id": "8f79d5fd-b0d7-4e66-aeee-61dc2964a578",
   "metadata": {},
   "outputs": [
    {
     "data": {
      "text/plain": [
       "dict_values(['Vinay', ['python', 'stats', 'machine learning', 'interviews']])"
      ]
     },
     "execution_count": 63,
     "metadata": {},
     "output_type": "execute_result"
    }
   ],
   "source": [
    "d.values()"
   ]
  },
  {
   "cell_type": "code",
   "execution_count": 65,
   "id": "4141eab2-44a2-4d6f-a12f-5137c548623d",
   "metadata": {},
   "outputs": [
    {
     "name": "stdout",
     "output_type": "stream",
     "text": [
      "Vinay\n",
      "['python', 'stats', 'machine learning', 'interviews']\n"
     ]
    }
   ],
   "source": [
    "for i in d.values():\n",
    "    print(i)"
   ]
  },
  {
   "cell_type": "code",
   "execution_count": null,
   "id": "af18f9c0-0e60-4451-a119-e490f2bea638",
   "metadata": {},
   "outputs": [],
   "source": []
  }
 ],
 "metadata": {
  "kernelspec": {
   "display_name": "Python 3 (ipykernel)",
   "language": "python",
   "name": "python3"
  },
  "language_info": {
   "codemirror_mode": {
    "name": "ipython",
    "version": 3
   },
   "file_extension": ".py",
   "mimetype": "text/x-python",
   "name": "python",
   "nbconvert_exporter": "python",
   "pygments_lexer": "ipython3",
   "version": "3.10.8"
  }
 },
 "nbformat": 4,
 "nbformat_minor": 5
}
