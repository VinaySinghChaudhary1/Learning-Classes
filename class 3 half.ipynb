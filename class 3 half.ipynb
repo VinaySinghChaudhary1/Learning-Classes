{
 "cells": [
  {
   "cell_type": "code",
   "execution_count": 1,
   "id": "3cb774eb-1bf3-40cc-b9e1-49ceffb3fb34",
   "metadata": {},
   "outputs": [],
   "source": [
    "#...........Conditional"
   ]
  },
  {
   "cell_type": "code",
   "execution_count": 2,
   "id": "88e8d8f6-3ab7-4c07-9112-6b0b4cee44fb",
   "metadata": {},
   "outputs": [
    {
     "name": "stdin",
     "output_type": "stream",
     "text": [
      "Enter your Marks 55\n"
     ]
    },
    {
     "name": "stdout",
     "output_type": "stream",
     "text": [
      "you will a part of A2\n"
     ]
    }
   ],
   "source": [
    "marks = int(input('Enter your Marks', ))\n",
    "if marks >= 80:\n",
    "    print('you will be a part of A0 batch')\n",
    "elif marks >= 60 and marks<80:\n",
    "    print('you are a part of A1 batch')\n",
    "elif marks >= 40 and marks<60:\n",
    "    print('you will a part of A2')\n",
    "else :\n",
    "    print('you will a part of A3 Batch')"
   ]
  },
  {
   "cell_type": "code",
   "execution_count": 3,
   "id": "ab193eed-b96f-48c7-b7b3-108f5dd8ceab",
   "metadata": {},
   "outputs": [
    {
     "name": "stdout",
     "output_type": "stream",
     "text": [
      "you will a part of A3 Batch\n"
     ]
    }
   ],
   "source": [
    "marks = 10\n",
    "if marks >= 80:\n",
    "    print('you will be a part of A0 batch')\n",
    "elif marks >= 60 and marks<80:\n",
    "    print('you are a part of A1 batch')\n",
    "elif marks >= 40 and marks<60:\n",
    "    print('you will a part of A2')\n",
    "else :\n",
    "    print('you will a part of A3 Batch')"
   ]
  },
  {
   "cell_type": "code",
   "execution_count": 4,
   "id": "5bebc294-85e1-46af-9dfb-c0cabf332564",
   "metadata": {},
   "outputs": [
    {
     "name": "stdin",
     "output_type": "stream",
     "text": [
      "Enter price 55\n"
     ]
    },
    {
     "name": "stdout",
     "output_type": "stream",
     "text": [
      "i will purchase\n"
     ]
    }
   ],
   "source": [
    "price = int(input('Enter price', ))\n",
    "if price >1000:\n",
    "    print('i will not pruchase')\n",
    "else:\n",
    "    print('i will purchase')"
   ]
  },
  {
   "cell_type": "code",
   "execution_count": 5,
   "id": "d5f0fae0-dec0-401f-a6ef-29017d0260c7",
   "metadata": {},
   "outputs": [
    {
     "name": "stdin",
     "output_type": "stream",
     "text": [
      "Enter price 255\n"
     ]
    },
    {
     "name": "stdout",
     "output_type": "stream",
     "text": [
      "i will purchase\n"
     ]
    }
   ],
   "source": [
    "price = int(input('Enter price', ))\n",
    "if price >1000:\n",
    "    print('i will not pruchase')\n",
    "    if price>5000:\n",
    "        print('this is too much')\n",
    "    elif price <2000:\n",
    "        print('Its ok')\n",
    "else:\n",
    "    print('i will purchase')"
   ]
  },
  {
   "cell_type": "code",
   "execution_count": 6,
   "id": "c16fdac8-2c39-4ee5-912e-e771caad65f2",
   "metadata": {},
   "outputs": [],
   "source": [
    "#...........LOOP\n"
   ]
  },
  {
   "cell_type": "code",
   "execution_count": 7,
   "id": "d6ef5c70-4c38-4bff-b848-330ad2e68173",
   "metadata": {},
   "outputs": [],
   "source": [
    "l=[1,2,34,4,5,6,7,8,44]"
   ]
  },
  {
   "cell_type": "code",
   "execution_count": 8,
   "id": "938687f6-1350-4716-96b5-5924192c910d",
   "metadata": {},
   "outputs": [
    {
     "data": {
      "text/plain": [
       "2"
      ]
     },
     "execution_count": 8,
     "metadata": {},
     "output_type": "execute_result"
    }
   ],
   "source": [
    "l[0]+1"
   ]
  },
  {
   "cell_type": "code",
   "execution_count": 9,
   "id": "8ff28f14-04dd-42c1-871f-814336e720f0",
   "metadata": {},
   "outputs": [],
   "source": [
    "l=[1,2,34,4,5,6,7,8,44]"
   ]
  },
  {
   "cell_type": "code",
   "execution_count": 10,
   "id": "8423168a-3c5b-4f3d-8e7a-eb5272a1d4ac",
   "metadata": {},
   "outputs": [
    {
     "name": "stdout",
     "output_type": "stream",
     "text": [
      "1\n",
      "2\n",
      "34\n",
      "4\n",
      "5\n",
      "6\n",
      "7\n",
      "8\n",
      "44\n"
     ]
    }
   ],
   "source": [
    "for i in l :\n",
    "    print(i)"
   ]
  },
  {
   "cell_type": "code",
   "execution_count": 11,
   "id": "10609541-9f6b-43f7-9653-0bf5ef89eca5",
   "metadata": {},
   "outputs": [
    {
     "name": "stdout",
     "output_type": "stream",
     "text": [
      "2\n",
      "3\n",
      "35\n",
      "5\n",
      "6\n",
      "7\n",
      "8\n",
      "9\n",
      "45\n"
     ]
    }
   ],
   "source": [
    "for i in l:\n",
    "    print(i+1)"
   ]
  },
  {
   "cell_type": "code",
   "execution_count": null,
   "id": "5ba88754-b7db-4369-a290-8ed6503da74c",
   "metadata": {},
   "outputs": [],
   "source": [
    "l11=[]\n",
    "for i in l11:\n",
    "    print(i+1)\n",
    "    l11.append(i+1)"
   ]
  },
  {
   "cell_type": "code",
   "execution_count": null,
   "id": "5b397044-8cd8-491a-a213-f7fb434f0918",
   "metadata": {},
   "outputs": [],
   "source": []
  },
  {
   "cell_type": "code",
   "execution_count": 4,
   "id": "7f47729f-279c-4bf9-965b-f61604a0f125",
   "metadata": {},
   "outputs": [],
   "source": [
    "l=['vinay','vivek','vikas']"
   ]
  },
  {
   "cell_type": "code",
   "execution_count": 5,
   "id": "1c2270fe-ebb3-4f08-b106-f3e9573212d6",
   "metadata": {},
   "outputs": [
    {
     "name": "stdout",
     "output_type": "stream",
     "text": [
      "vinay\n",
      "vivek\n",
      "vikas\n"
     ]
    }
   ],
   "source": [
    "l1 = []\n",
    "for i in l:\n",
    "    print(i)\n",
    "    l1.append(i.upper())"
   ]
  },
  {
   "cell_type": "code",
   "execution_count": 6,
   "id": "ad327911-81a1-41de-84b5-a5f45c00b855",
   "metadata": {},
   "outputs": [
    {
     "data": {
      "text/plain": [
       "['VINAY', 'VIVEK', 'VIKAS']"
      ]
     },
     "execution_count": 6,
     "metadata": {},
     "output_type": "execute_result"
    }
   ],
   "source": [
    "l1"
   ]
  },
  {
   "cell_type": "code",
   "execution_count": 8,
   "id": "852e3027-7917-453a-838c-10992b0492ea",
   "metadata": {},
   "outputs": [],
   "source": [
    "l2=[1,2,3,4,4,'vinay','kumar',234.33, \"absc\"]"
   ]
  },
  {
   "cell_type": "code",
   "execution_count": 13,
   "id": "c3e25eb2-cbd8-42b1-89df-27e4e5f87291",
   "metadata": {},
   "outputs": [],
   "source": [
    "l3=[]\n",
    "l4=[]\n",
    "for i in l2:\n",
    "    if type(i)== int or type(i)==float:\n",
    "       l3.append(i)\n",
    "    else:\n",
    "        l4.append(i)"
   ]
  },
  {
   "cell_type": "code",
   "execution_count": 11,
   "id": "0e6d4d8d-db45-4940-96e4-580de19b6bf9",
   "metadata": {},
   "outputs": [
    {
     "data": {
      "text/plain": [
       "[1, 2, 3, 4, 4, 234.33]"
      ]
     },
     "execution_count": 11,
     "metadata": {},
     "output_type": "execute_result"
    }
   ],
   "source": [
    "l3"
   ]
  },
  {
   "cell_type": "code",
   "execution_count": 12,
   "id": "5474da18-ca77-4164-80dd-214698c1151d",
   "metadata": {},
   "outputs": [
    {
     "data": {
      "text/plain": [
       "['vinay', 'kumar', 'absc']"
      ]
     },
     "execution_count": 12,
     "metadata": {},
     "output_type": "execute_result"
    }
   ],
   "source": [
    "l4"
   ]
  },
  {
   "cell_type": "code",
   "execution_count": null,
   "id": "5c1d6964-8b5b-4e13-9438-7f27c0dd9419",
   "metadata": {},
   "outputs": [],
   "source": []
  }
 ],
 "metadata": {
  "kernelspec": {
   "display_name": "Python 3 (ipykernel)",
   "language": "python",
   "name": "python3"
  },
  "language_info": {
   "codemirror_mode": {
    "name": "ipython",
    "version": 3
   },
   "file_extension": ".py",
   "mimetype": "text/x-python",
   "name": "python",
   "nbconvert_exporter": "python",
   "pygments_lexer": "ipython3",
   "version": "3.10.8"
  },
  "toc-autonumbering": false,
  "toc-showcode": false
 },
 "nbformat": 4,
 "nbformat_minor": 5
}
