{
 "cells": [
  {
   "cell_type": "code",
   "execution_count": null,
   "id": "033b9cfe-a25c-47b9-8926-537c6a7c8ed3",
   "metadata": {},
   "outputs": [],
   "source": [
    "#........LIST"
   ]
  },
  {
   "cell_type": "code",
   "execution_count": 1,
   "id": "df1e894d-925b-49e8-848f-5dc2c1fe43e1",
   "metadata": {},
   "outputs": [],
   "source": [
    "l=[1,23,'vinay',234.32,True,234]"
   ]
  },
  {
   "cell_type": "code",
   "execution_count": 2,
   "id": "39cc9373-9208-434d-81fd-9df858940a2c",
   "metadata": {},
   "outputs": [
    {
     "data": {
      "text/plain": [
       "list"
      ]
     },
     "execution_count": 2,
     "metadata": {},
     "output_type": "execute_result"
    }
   ],
   "source": [
    "type(l)"
   ]
  },
  {
   "cell_type": "code",
   "execution_count": 3,
   "id": "4b51959d-8dfe-4058-8db8-f8bba30d952a",
   "metadata": {},
   "outputs": [
    {
     "data": {
      "text/plain": [
       "'vinay'"
      ]
     },
     "execution_count": 3,
     "metadata": {},
     "output_type": "execute_result"
    }
   ],
   "source": [
    "l[2]"
   ]
  },
  {
   "cell_type": "code",
   "execution_count": 4,
   "id": "a861221c-3c6d-43d1-864f-82c6a28f4c0a",
   "metadata": {},
   "outputs": [
    {
     "data": {
      "text/plain": [
       "[1, 23, 'vinay', 234.32, True, 234]"
      ]
     },
     "execution_count": 4,
     "metadata": {},
     "output_type": "execute_result"
    }
   ],
   "source": [
    "l"
   ]
  },
  {
   "cell_type": "code",
   "execution_count": 5,
   "id": "2789a5fd-7fcb-413c-a098-dedc9008dadd",
   "metadata": {},
   "outputs": [
    {
     "data": {
      "text/plain": [
       "[1, 23, 'vinay']"
      ]
     },
     "execution_count": 5,
     "metadata": {},
     "output_type": "execute_result"
    }
   ],
   "source": [
    "l[0:3]"
   ]
  },
  {
   "cell_type": "code",
   "execution_count": 7,
   "id": "60944f36-2c40-46a3-88c5-f268bfefb97a",
   "metadata": {},
   "outputs": [
    {
     "data": {
      "text/plain": [
       "234"
      ]
     },
     "execution_count": 7,
     "metadata": {},
     "output_type": "execute_result"
    }
   ],
   "source": [
    "l[-1]"
   ]
  },
  {
   "cell_type": "code",
   "execution_count": 8,
   "id": "2c28a0e5-b164-45dc-a687-c11a556fd82e",
   "metadata": {},
   "outputs": [
    {
     "data": {
      "text/plain": [
       "[234, True, 234.32, 'vinay', 23, 1]"
      ]
     },
     "execution_count": 8,
     "metadata": {},
     "output_type": "execute_result"
    }
   ],
   "source": [
    "l[::-1]"
   ]
  },
  {
   "cell_type": "code",
   "execution_count": 9,
   "id": "2bfda420-6a7e-4ff7-a265-56f0ac9df410",
   "metadata": {},
   "outputs": [
    {
     "data": {
      "text/plain": [
       "[1, 'vinay', True]"
      ]
     },
     "execution_count": 9,
     "metadata": {},
     "output_type": "execute_result"
    }
   ],
   "source": [
    "l[::2]"
   ]
  },
  {
   "cell_type": "code",
   "execution_count": 10,
   "id": "4676395a-81e0-4987-9892-ce69ef0723f1",
   "metadata": {},
   "outputs": [
    {
     "data": {
      "text/plain": [
       "[1, 23, 'vinay', 234.32, True, 234]"
      ]
     },
     "execution_count": 10,
     "metadata": {},
     "output_type": "execute_result"
    }
   ],
   "source": [
    "l"
   ]
  },
  {
   "cell_type": "code",
   "execution_count": 11,
   "id": "f7c5cf4a-4173-4513-95dd-e476f9ecee80",
   "metadata": {},
   "outputs": [],
   "source": [
    "s='singh'"
   ]
  },
  {
   "cell_type": "code",
   "execution_count": 13,
   "id": "d9423ad5-153c-4e81-8557-fba463dae593",
   "metadata": {},
   "outputs": [
    {
     "data": {
      "text/plain": [
       "['s', 'i', 'n', 'g', 'h']"
      ]
     },
     "execution_count": 13,
     "metadata": {},
     "output_type": "execute_result"
    }
   ],
   "source": [
    "list(s)"
   ]
  },
  {
   "cell_type": "code",
   "execution_count": 14,
   "id": "9e8d57f9-5079-43f8-b285-38d2f91e5445",
   "metadata": {},
   "outputs": [
    {
     "data": {
      "text/plain": [
       "['s', 'i', 'n', 'g', 'h', 1, 23, 'vinay', 234.32, True, 234]"
      ]
     },
     "execution_count": 14,
     "metadata": {},
     "output_type": "execute_result"
    }
   ],
   "source": [
    "list(s)+l"
   ]
  },
  {
   "cell_type": "code",
   "execution_count": 15,
   "id": "271d81de-49dd-4c32-a663-7fa1fe1d9696",
   "metadata": {},
   "outputs": [
    {
     "data": {
      "text/plain": [
       "'vi'"
      ]
     },
     "execution_count": 15,
     "metadata": {},
     "output_type": "execute_result"
    }
   ],
   "source": [
    "l[2][0:2]"
   ]
  },
  {
   "cell_type": "code",
   "execution_count": 17,
   "id": "ea430860-69e4-41b4-8f27-e0c72d4fef2f",
   "metadata": {},
   "outputs": [
    {
     "data": {
      "text/plain": [
       "[1, 23, 'vinay', 234.32, True, 234, 'singh']"
      ]
     },
     "execution_count": 17,
     "metadata": {},
     "output_type": "execute_result"
    }
   ],
   "source": [
    "l+[s]"
   ]
  },
  {
   "cell_type": "code",
   "execution_count": 20,
   "id": "0236574a-3938-4e29-93fa-58f95bf8fdbc",
   "metadata": {},
   "outputs": [],
   "source": [
    "d=4"
   ]
  },
  {
   "cell_type": "code",
   "execution_count": 22,
   "id": "5469d150-be85-4664-8c29-325d701fc8f8",
   "metadata": {},
   "outputs": [
    {
     "data": {
      "text/plain": [
       "[1, 23, 'vinay', 234.32, True, 234, 4]"
      ]
     },
     "execution_count": 22,
     "metadata": {},
     "output_type": "execute_result"
    }
   ],
   "source": [
    "l+[d]"
   ]
  },
  {
   "cell_type": "code",
   "execution_count": 23,
   "id": "3eeef516-37e1-401a-8c83-f05cb70155ae",
   "metadata": {},
   "outputs": [
    {
     "data": {
      "text/plain": [
       "6"
      ]
     },
     "execution_count": 23,
     "metadata": {},
     "output_type": "execute_result"
    }
   ],
   "source": [
    "len(l)"
   ]
  },
  {
   "cell_type": "code",
   "execution_count": 24,
   "id": "0e8879e3-e38a-4d7a-a361-0188f1c66429",
   "metadata": {},
   "outputs": [
    {
     "data": {
      "text/plain": [
       "[1, 23, 'vinay', 234.32, True, 234]"
      ]
     },
     "execution_count": 24,
     "metadata": {},
     "output_type": "execute_result"
    }
   ],
   "source": [
    "l"
   ]
  },
  {
   "cell_type": "code",
   "execution_count": 25,
   "id": "ce34851f-e599-440e-a6ab-af36d745d0c0",
   "metadata": {},
   "outputs": [],
   "source": [
    "l.append(43)"
   ]
  },
  {
   "cell_type": "code",
   "execution_count": 26,
   "id": "053a4d45-e34e-402f-97cb-f2f30b38a87b",
   "metadata": {},
   "outputs": [
    {
     "data": {
      "text/plain": [
       "[1, 23, 'vinay', 234.32, True, 234, 43]"
      ]
     },
     "execution_count": 26,
     "metadata": {},
     "output_type": "execute_result"
    }
   ],
   "source": [
    "l"
   ]
  },
  {
   "cell_type": "code",
   "execution_count": 27,
   "id": "8ffdbc4e-44f9-4889-a442-ded89345dad2",
   "metadata": {},
   "outputs": [],
   "source": [
    "k=\"chaudhary\"\n",
    "l.append(k)"
   ]
  },
  {
   "cell_type": "code",
   "execution_count": 28,
   "id": "3e114ca3-29f6-4c27-b0b9-70c4c07edde8",
   "metadata": {},
   "outputs": [
    {
     "data": {
      "text/plain": [
       "[1, 23, 'vinay', 234.32, True, 234, 43, 'chaudhary']"
      ]
     },
     "execution_count": 28,
     "metadata": {},
     "output_type": "execute_result"
    }
   ],
   "source": [
    "l"
   ]
  },
  {
   "cell_type": "code",
   "execution_count": 30,
   "id": "3fdb4378-e52b-4cb3-b804-648620580be8",
   "metadata": {},
   "outputs": [],
   "source": [
    "l1=[90,\"vikash\",34.23]"
   ]
  },
  {
   "cell_type": "code",
   "execution_count": 31,
   "id": "070fb064-270c-44f9-bfb8-cdb0edc93668",
   "metadata": {},
   "outputs": [],
   "source": [
    "l.append(l1)"
   ]
  },
  {
   "cell_type": "code",
   "execution_count": 32,
   "id": "f7199f62-723f-4938-ba45-fe7096ce2226",
   "metadata": {},
   "outputs": [
    {
     "data": {
      "text/plain": [
       "[1, 23, 'vinay', 234.32, True, 234, 43, 'chaudhary', [90, 'vikash', 34.23]]"
      ]
     },
     "execution_count": 32,
     "metadata": {},
     "output_type": "execute_result"
    }
   ],
   "source": [
    "l"
   ]
  },
  {
   "cell_type": "code",
   "execution_count": 33,
   "id": "26c0443e-5ff6-41a1-8569-8ffab71f088a",
   "metadata": {},
   "outputs": [
    {
     "data": {
      "text/plain": [
       "'vikash'"
      ]
     },
     "execution_count": 33,
     "metadata": {},
     "output_type": "execute_result"
    }
   ],
   "source": [
    "l[8][1]"
   ]
  },
  {
   "cell_type": "code",
   "execution_count": 34,
   "id": "235fa221-d411-43fc-9c5b-edf5a3919eb7",
   "metadata": {},
   "outputs": [
    {
     "ename": "TypeError",
     "evalue": "'int' object is not iterable",
     "output_type": "error",
     "traceback": [
      "\u001b[0;31m---------------------------------------------------------------------------\u001b[0m",
      "\u001b[0;31mTypeError\u001b[0m                                 Traceback (most recent call last)",
      "Cell \u001b[0;32mIn[34], line 1\u001b[0m\n\u001b[0;32m----> 1\u001b[0m \u001b[43ml\u001b[49m\u001b[38;5;241;43m.\u001b[39;49m\u001b[43mextend\u001b[49m\u001b[43m(\u001b[49m\u001b[38;5;241;43m4\u001b[39;49m\u001b[43m)\u001b[49m\n",
      "\u001b[0;31mTypeError\u001b[0m: 'int' object is not iterable"
     ]
    }
   ],
   "source": [
    "l.extend(4)"
   ]
  },
  {
   "cell_type": "code",
   "execution_count": 35,
   "id": "d4d7e9ad-b688-4a20-94a4-e9f3bedc2021",
   "metadata": {},
   "outputs": [],
   "source": [
    "l.extend(\"vivek\")"
   ]
  },
  {
   "cell_type": "code",
   "execution_count": 36,
   "id": "b33375b4-47e1-4585-98bd-b2b340db2026",
   "metadata": {},
   "outputs": [
    {
     "data": {
      "text/plain": [
       "[1,\n",
       " 23,\n",
       " 'vinay',\n",
       " 234.32,\n",
       " True,\n",
       " 234,\n",
       " 43,\n",
       " 'chaudhary',\n",
       " [90, 'vikash', 34.23],\n",
       " 'v',\n",
       " 'i',\n",
       " 'v',\n",
       " 'e',\n",
       " 'k']"
      ]
     },
     "execution_count": 36,
     "metadata": {},
     "output_type": "execute_result"
    }
   ],
   "source": [
    "l"
   ]
  },
  {
   "cell_type": "code",
   "execution_count": 38,
   "id": "28684e68-6d3a-4816-8cd7-cf6575487966",
   "metadata": {},
   "outputs": [],
   "source": [
    "l.extend([3,4,5])"
   ]
  },
  {
   "cell_type": "code",
   "execution_count": 39,
   "id": "5de598de-a1c9-480a-9523-0b263f0e2408",
   "metadata": {},
   "outputs": [
    {
     "data": {
      "text/plain": [
       "[1,\n",
       " 23,\n",
       " 'vinay',\n",
       " 234.32,\n",
       " True,\n",
       " 234,\n",
       " 43,\n",
       " 'chaudhary',\n",
       " [90, 'vikash', 34.23],\n",
       " 'v',\n",
       " 'i',\n",
       " 'v',\n",
       " 'e',\n",
       " 'k',\n",
       " 3,\n",
       " 4,\n",
       " 5]"
      ]
     },
     "execution_count": 39,
     "metadata": {},
     "output_type": "execute_result"
    }
   ],
   "source": [
    "l"
   ]
  },
  {
   "cell_type": "code",
   "execution_count": 40,
   "id": "6bd65a32-516f-4113-90a0-5e81b1ee2864",
   "metadata": {},
   "outputs": [
    {
     "data": {
      "text/plain": [
       "[90, 'vikash', 34.23]"
      ]
     },
     "execution_count": 40,
     "metadata": {},
     "output_type": "execute_result"
    }
   ],
   "source": [
    "l1"
   ]
  },
  {
   "cell_type": "code",
   "execution_count": 41,
   "id": "252d9c1f-2953-4998-98e5-ef9d5b2eb9a3",
   "metadata": {},
   "outputs": [],
   "source": [
    "l1.insert(1,\"Ravi\")"
   ]
  },
  {
   "cell_type": "code",
   "execution_count": 42,
   "id": "025801ba-f07d-4e25-aa21-f172b4dc99c1",
   "metadata": {},
   "outputs": [
    {
     "data": {
      "text/plain": [
       "[90, 'Ravi', 'vikash', 34.23]"
      ]
     },
     "execution_count": 42,
     "metadata": {},
     "output_type": "execute_result"
    }
   ],
   "source": [
    "l1"
   ]
  },
  {
   "cell_type": "code",
   "execution_count": 44,
   "id": "392925e1-730d-460f-ac98-72ffc7431b5c",
   "metadata": {},
   "outputs": [],
   "source": [
    "l1.insert(2,[34,324,\"pw\",True])"
   ]
  },
  {
   "cell_type": "code",
   "execution_count": 45,
   "id": "e9276edc-bf61-4cf8-9f1e-e96daf0b1025",
   "metadata": {},
   "outputs": [
    {
     "data": {
      "text/plain": [
       "[90, 'Ravi', [34, 324, 'pw', True], 'vikash', 34.23]"
      ]
     },
     "execution_count": 45,
     "metadata": {},
     "output_type": "execute_result"
    }
   ],
   "source": [
    "l1"
   ]
  },
  {
   "cell_type": "code",
   "execution_count": 46,
   "id": "be0f901e-ebfe-45ee-a338-80514025968b",
   "metadata": {},
   "outputs": [],
   "source": [
    "l1.insert(-1,24)"
   ]
  },
  {
   "cell_type": "code",
   "execution_count": 47,
   "id": "fd818e31-ce2d-4c0b-8334-2930462a3f72",
   "metadata": {},
   "outputs": [
    {
     "data": {
      "text/plain": [
       "[90, 'Ravi', [34, 324, 'pw', True], 'vikash', 24, 34.23]"
      ]
     },
     "execution_count": 47,
     "metadata": {},
     "output_type": "execute_result"
    }
   ],
   "source": [
    "l1"
   ]
  },
  {
   "cell_type": "code",
   "execution_count": 48,
   "id": "30448878-8b22-48d8-a156-abe4f32eacec",
   "metadata": {},
   "outputs": [
    {
     "data": {
      "text/plain": [
       "34.23"
      ]
     },
     "execution_count": 48,
     "metadata": {},
     "output_type": "execute_result"
    }
   ],
   "source": [
    "l1.pop()"
   ]
  },
  {
   "cell_type": "code",
   "execution_count": 49,
   "id": "f6ade848-745d-42d2-a395-7bdaff17201d",
   "metadata": {},
   "outputs": [
    {
     "data": {
      "text/plain": [
       "[90, 'Ravi', [34, 324, 'pw', True], 'vikash', 24]"
      ]
     },
     "execution_count": 49,
     "metadata": {},
     "output_type": "execute_result"
    }
   ],
   "source": [
    "l1"
   ]
  },
  {
   "cell_type": "code",
   "execution_count": 50,
   "id": "2db154b9-d372-49c4-a193-0c6e6e202712",
   "metadata": {},
   "outputs": [
    {
     "data": {
      "text/plain": [
       "[34, 324, 'pw', True]"
      ]
     },
     "execution_count": 50,
     "metadata": {},
     "output_type": "execute_result"
    }
   ],
   "source": [
    "l1.pop(2)"
   ]
  },
  {
   "cell_type": "code",
   "execution_count": 51,
   "id": "45258433-c14a-4966-95ce-85a1004ddfa7",
   "metadata": {},
   "outputs": [
    {
     "data": {
      "text/plain": [
       "[90, 'Ravi', 'vikash', 24]"
      ]
     },
     "execution_count": 51,
     "metadata": {},
     "output_type": "execute_result"
    }
   ],
   "source": [
    "l1"
   ]
  },
  {
   "cell_type": "code",
   "execution_count": 52,
   "id": "0ab47326-ecb2-4f52-8f36-04c970a893fa",
   "metadata": {},
   "outputs": [],
   "source": [
    "l1.remove(90)"
   ]
  },
  {
   "cell_type": "code",
   "execution_count": 53,
   "id": "a4bc9e7c-1402-4eca-b83d-47febea28a63",
   "metadata": {},
   "outputs": [
    {
     "data": {
      "text/plain": [
       "['Ravi', 'vikash', 24]"
      ]
     },
     "execution_count": 53,
     "metadata": {},
     "output_type": "execute_result"
    }
   ],
   "source": [
    "l1"
   ]
  },
  {
   "cell_type": "code",
   "execution_count": 56,
   "id": "74d47235-7e7d-42fd-8f97-6451e0583ba7",
   "metadata": {},
   "outputs": [],
   "source": [
    "l1.append([1,234,949.23,\"pwskill\",False])"
   ]
  },
  {
   "cell_type": "code",
   "execution_count": 57,
   "id": "f7362bfb-f67c-4352-be1f-9c980956ae92",
   "metadata": {},
   "outputs": [
    {
     "data": {
      "text/plain": [
       "['Ravi', 'vikash', 24, [1, 234, 949.23, 'pwskill', False]]"
      ]
     },
     "execution_count": 57,
     "metadata": {},
     "output_type": "execute_result"
    }
   ],
   "source": [
    "l1"
   ]
  },
  {
   "cell_type": "code",
   "execution_count": 59,
   "id": "3652793a-4a5d-42e7-b214-8eb94bdf306f",
   "metadata": {},
   "outputs": [],
   "source": [
    "l1.reverse()"
   ]
  },
  {
   "cell_type": "code",
   "execution_count": 60,
   "id": "fec905e4-479d-40ad-ab59-a6d041f1d9d2",
   "metadata": {},
   "outputs": [
    {
     "data": {
      "text/plain": [
       "[[1, 234, 949.23, 'pwskill', False], 24, 'vikash', 'Ravi']"
      ]
     },
     "execution_count": 60,
     "metadata": {},
     "output_type": "execute_result"
    }
   ],
   "source": [
    "l1"
   ]
  },
  {
   "cell_type": "code",
   "execution_count": 61,
   "id": "0163f5bb-a4d0-44e7-bcc0-1e40ad37eb9a",
   "metadata": {},
   "outputs": [],
   "source": [
    "l1=l1[::-1]"
   ]
  },
  {
   "cell_type": "code",
   "execution_count": 62,
   "id": "c7f8884a-97e4-48e6-b640-2d36a3468796",
   "metadata": {},
   "outputs": [
    {
     "data": {
      "text/plain": [
       "['Ravi', 'vikash', 24, [1, 234, 949.23, 'pwskill', False]]"
      ]
     },
     "execution_count": 62,
     "metadata": {},
     "output_type": "execute_result"
    }
   ],
   "source": [
    "l1"
   ]
  },
  {
   "cell_type": "code",
   "execution_count": 63,
   "id": "0505a77c-4730-4146-b806-12f4289b73cd",
   "metadata": {},
   "outputs": [],
   "source": [
    "l3=[2,45,32,34,55,43,45,0,23]"
   ]
  },
  {
   "cell_type": "code",
   "execution_count": 64,
   "id": "d8581e9f-ff7b-4f55-8e06-2bae1b5501ce",
   "metadata": {},
   "outputs": [],
   "source": [
    "l3.sort()"
   ]
  },
  {
   "cell_type": "code",
   "execution_count": 65,
   "id": "b53a8c80-1859-448f-b8c7-4afd5464c01a",
   "metadata": {},
   "outputs": [
    {
     "data": {
      "text/plain": [
       "[0, 2, 23, 32, 34, 43, 45, 45, 55]"
      ]
     },
     "execution_count": 65,
     "metadata": {},
     "output_type": "execute_result"
    }
   ],
   "source": [
    "l3"
   ]
  },
  {
   "cell_type": "code",
   "execution_count": 66,
   "id": "6c4046a9-76ae-427a-ac3e-7b47200dfc7f",
   "metadata": {},
   "outputs": [],
   "source": [
    "l4=[35,'verma',32,True,90.23]"
   ]
  },
  {
   "cell_type": "code",
   "execution_count": 67,
   "id": "7e7fb237-3ea8-4bb0-9a07-4a233e10265d",
   "metadata": {},
   "outputs": [],
   "source": [
    "l3.sort(reverse=True)"
   ]
  },
  {
   "cell_type": "code",
   "execution_count": 68,
   "id": "acaf3a75-8633-41ea-867f-89400cfa92d0",
   "metadata": {},
   "outputs": [
    {
     "data": {
      "text/plain": [
       "[55, 45, 45, 43, 34, 32, 23, 2, 0]"
      ]
     },
     "execution_count": 68,
     "metadata": {},
     "output_type": "execute_result"
    }
   ],
   "source": [
    "l3"
   ]
  },
  {
   "cell_type": "code",
   "execution_count": 69,
   "id": "521066b8-7d6d-4405-b916-ca191045ecf1",
   "metadata": {},
   "outputs": [
    {
     "ename": "ValueError",
     "evalue": "'sudh' is not in list",
     "output_type": "error",
     "traceback": [
      "\u001b[0;31m---------------------------------------------------------------------------\u001b[0m",
      "\u001b[0;31mValueError\u001b[0m                                Traceback (most recent call last)",
      "Cell \u001b[0;32mIn[69], line 1\u001b[0m\n\u001b[0;32m----> 1\u001b[0m \u001b[43ml4\u001b[49m\u001b[38;5;241;43m.\u001b[39;49m\u001b[43mindex\u001b[49m\u001b[43m(\u001b[49m\u001b[38;5;124;43m\"\u001b[39;49m\u001b[38;5;124;43msudh\u001b[39;49m\u001b[38;5;124;43m\"\u001b[39;49m\u001b[43m)\u001b[49m\n",
      "\u001b[0;31mValueError\u001b[0m: 'sudh' is not in list"
     ]
    }
   ],
   "source": []
  },
  {
   "cell_type": "code",
   "execution_count": 70,
   "id": "98c31de5-94b5-4c6e-9fd2-cbecd214ec3a",
   "metadata": {},
   "outputs": [],
   "source": [
    "l5=['skill','vinay','Viek',\"vikash\"]"
   ]
  },
  {
   "cell_type": "code",
   "execution_count": 72,
   "id": "2e6bddec-3ddc-4d9d-a1a5-c29befa84e97",
   "metadata": {},
   "outputs": [],
   "source": [
    "l5.sort(reverse=True)"
   ]
  },
  {
   "cell_type": "code",
   "execution_count": 73,
   "id": "91edcb1e-a547-418e-9be7-9067cce5ad81",
   "metadata": {},
   "outputs": [
    {
     "data": {
      "text/plain": [
       "['vinay', 'vikash', 'skill', 'Viek']"
      ]
     },
     "execution_count": 73,
     "metadata": {},
     "output_type": "execute_result"
    }
   ],
   "source": [
    "l5"
   ]
  },
  {
   "cell_type": "code",
   "execution_count": 75,
   "id": "2b920df0-4f7b-460d-8d12-87f562a63c8b",
   "metadata": {},
   "outputs": [
    {
     "data": {
      "text/plain": [
       "0"
      ]
     },
     "execution_count": 75,
     "metadata": {},
     "output_type": "execute_result"
    }
   ],
   "source": [
    "l5.index(\"vinay\")"
   ]
  },
  {
   "cell_type": "code",
   "execution_count": 78,
   "id": "9acda4e3-e4e9-4d77-8396-2af6b31f973c",
   "metadata": {},
   "outputs": [
    {
     "data": {
      "text/plain": [
       "1"
      ]
     },
     "execution_count": 78,
     "metadata": {},
     "output_type": "execute_result"
    }
   ],
   "source": [
    "l5.count(\"skill\")"
   ]
  },
  {
   "cell_type": "code",
   "execution_count": 79,
   "id": "6a88dd43-23bc-499c-9f85-da244ab446ce",
   "metadata": {},
   "outputs": [
    {
     "data": {
      "text/plain": [
       "[55, 45, 45, 43, 34, 32, 23, 2, 0]"
      ]
     },
     "execution_count": 79,
     "metadata": {},
     "output_type": "execute_result"
    }
   ],
   "source": [
    "l3"
   ]
  },
  {
   "cell_type": "code",
   "execution_count": 80,
   "id": "f1b5562f-c02a-49e2-b339-bab73a2b1616",
   "metadata": {},
   "outputs": [],
   "source": [
    "l3[0]=30"
   ]
  },
  {
   "cell_type": "code",
   "execution_count": 81,
   "id": "74761b29-f7f1-471b-954c-36cfdebfe26b",
   "metadata": {},
   "outputs": [
    {
     "data": {
      "text/plain": [
       "[30, 45, 45, 43, 34, 32, 23, 2, 0]"
      ]
     },
     "execution_count": 81,
     "metadata": {},
     "output_type": "execute_result"
    }
   ],
   "source": [
    "l3"
   ]
  },
  {
   "cell_type": "code",
   "execution_count": 85,
   "id": "efa307d5-8313-4b8a-820c-13855ce17de5",
   "metadata": {},
   "outputs": [],
   "source": [
    "s=\"vinay\""
   ]
  },
  {
   "cell_type": "code",
   "execution_count": 86,
   "id": "cce1237e-7be9-4bb7-9727-e0aa2397d89f",
   "metadata": {},
   "outputs": [
    {
     "data": {
      "text/plain": [
       "'Vinay'"
      ]
     },
     "execution_count": 86,
     "metadata": {},
     "output_type": "execute_result"
    }
   ],
   "source": [
    "s.replace(\"v\",\"V\")"
   ]
  },
  {
   "cell_type": "code",
   "execution_count": 86,
   "id": "04c9b8dc-5658-4214-af2f-b52c1da922f7",
   "metadata": {},
   "outputs": [
    {
     "data": {
      "text/plain": [
       "'Vinay'"
      ]
     },
     "execution_count": 86,
     "metadata": {},
     "output_type": "execute_result"
    }
   ],
   "source": [
    "#........TUPLE"
   ]
  },
  {
   "cell_type": "code",
   "execution_count": 87,
   "id": "fbee156c-38e9-4a35-85ae-c973be3bf701",
   "metadata": {},
   "outputs": [],
   "source": [
    "t=(90, 'Ravi', [34, 324, 'pw', True], 'vikash', 34.23)"
   ]
  },
  {
   "cell_type": "code",
   "execution_count": 88,
   "id": "d1f153a7-5c45-408d-ab89-f8365934303f",
   "metadata": {},
   "outputs": [
    {
     "data": {
      "text/plain": [
       "(90, 'Ravi', [34, 324, 'pw', True], 'vikash', 34.23)"
      ]
     },
     "execution_count": 88,
     "metadata": {},
     "output_type": "execute_result"
    }
   ],
   "source": [
    "t"
   ]
  },
  {
   "cell_type": "code",
   "execution_count": 89,
   "id": "cc18ac5d-fa5e-4857-ab0e-46713779ba10",
   "metadata": {},
   "outputs": [
    {
     "data": {
      "text/plain": [
       "tuple"
      ]
     },
     "execution_count": 89,
     "metadata": {},
     "output_type": "execute_result"
    }
   ],
   "source": [
    "type(t)"
   ]
  },
  {
   "cell_type": "code",
   "execution_count": 90,
   "id": "7bae0cd1-54ff-4370-812b-e1a638d9155e",
   "metadata": {},
   "outputs": [
    {
     "data": {
      "text/plain": [
       "5"
      ]
     },
     "execution_count": 90,
     "metadata": {},
     "output_type": "execute_result"
    }
   ],
   "source": [
    "len(t)"
   ]
  },
  {
   "cell_type": "code",
   "execution_count": 91,
   "id": "bae35348-cf8c-4d5b-8329-882de2852c3b",
   "metadata": {},
   "outputs": [
    {
     "data": {
      "text/plain": [
       "[34, 324, 'pw', True]"
      ]
     },
     "execution_count": 91,
     "metadata": {},
     "output_type": "execute_result"
    }
   ],
   "source": [
    "t[2]"
   ]
  },
  {
   "cell_type": "code",
   "execution_count": 92,
   "id": "3c523432-22f1-4616-a906-1437cbf5a052",
   "metadata": {},
   "outputs": [
    {
     "data": {
      "text/plain": [
       "(34.23, 'vikash', [34, 324, 'pw', True], 'Ravi', 90)"
      ]
     },
     "execution_count": 92,
     "metadata": {},
     "output_type": "execute_result"
    }
   ],
   "source": [
    "t[::-1]"
   ]
  },
  {
   "cell_type": "code",
   "execution_count": 93,
   "id": "4b96ce88-c101-437c-8943-16c7e3ace5ec",
   "metadata": {},
   "outputs": [
    {
     "data": {
      "text/plain": [
       "90"
      ]
     },
     "execution_count": 93,
     "metadata": {},
     "output_type": "execute_result"
    }
   ],
   "source": [
    "t[0]"
   ]
  },
  {
   "cell_type": "code",
   "execution_count": 95,
   "id": "af05f47d-49f0-4236-9a0a-530320d8679c",
   "metadata": {},
   "outputs": [
    {
     "data": {
      "text/plain": [
       "(90, 'Ravi', [34, 324, 'pw', True], 'vikash', 34.23)"
      ]
     },
     "execution_count": 95,
     "metadata": {},
     "output_type": "execute_result"
    }
   ],
   "source": [
    "t.count"
   ]
  },
  {
   "cell_type": "code",
   "execution_count": null,
   "id": "0e957280-06da-4ad4-9cdd-a816dc9d5d93",
   "metadata": {},
   "outputs": [],
   "source": [
    "#............SET"
   ]
  },
  {
   "cell_type": "code",
   "execution_count": 96,
   "id": "06c1458f-f50e-4d29-a134-3af3c3741049",
   "metadata": {},
   "outputs": [],
   "source": [
    "s1={}"
   ]
  },
  {
   "cell_type": "code",
   "execution_count": 97,
   "id": "7d992a59-3069-4015-967a-bd72c862c5e2",
   "metadata": {},
   "outputs": [
    {
     "data": {
      "text/plain": [
       "dict"
      ]
     },
     "execution_count": 97,
     "metadata": {},
     "output_type": "execute_result"
    }
   ],
   "source": [
    "type(s1)"
   ]
  },
  {
   "cell_type": "code",
   "execution_count": 98,
   "id": "d6804aa1-e671-4477-a768-69b69b982d5e",
   "metadata": {},
   "outputs": [],
   "source": [
    "s2 ={2,3,4,5,6}"
   ]
  },
  {
   "cell_type": "code",
   "execution_count": 99,
   "id": "ed4ed8c4-de0e-4362-b963-f9239ce51d78",
   "metadata": {},
   "outputs": [
    {
     "data": {
      "text/plain": [
       "set"
      ]
     },
     "execution_count": 99,
     "metadata": {},
     "output_type": "execute_result"
    }
   ],
   "source": [
    "type(s2)"
   ]
  },
  {
   "cell_type": "code",
   "execution_count": 100,
   "id": "30cb7c6b-a40a-4275-a619-8bc838381d1f",
   "metadata": {},
   "outputs": [],
   "source": [
    "s3={234,505,\"Sudh\",True,82.34}"
   ]
  },
  {
   "cell_type": "code",
   "execution_count": 101,
   "id": "29a489ce-0962-4d13-84be-fbab8daf57aa",
   "metadata": {},
   "outputs": [
    {
     "data": {
      "text/plain": [
       "{234, 505, 82.34, 'Sudh', True}"
      ]
     },
     "execution_count": 101,
     "metadata": {},
     "output_type": "execute_result"
    }
   ],
   "source": [
    "s3"
   ]
  },
  {
   "cell_type": "code",
   "execution_count": 103,
   "id": "86f60c8d-e2c4-4ddb-8553-f52ba8fc824f",
   "metadata": {},
   "outputs": [],
   "source": [
    "s4={2.3,2,4,5,43,34,4,2,3,2,3}"
   ]
  },
  {
   "cell_type": "code",
   "execution_count": 104,
   "id": "4a5cab20-27de-410f-96a9-7e873c8e8768",
   "metadata": {},
   "outputs": [
    {
     "data": {
      "text/plain": [
       "{2, 2.3, 3, 4, 5, 34, 43}"
      ]
     },
     "execution_count": 104,
     "metadata": {},
     "output_type": "execute_result"
    }
   ],
   "source": [
    "s4"
   ]
  },
  {
   "cell_type": "code",
   "execution_count": 105,
   "id": "609d444c-5b14-40ef-b744-f31f98f572fd",
   "metadata": {},
   "outputs": [
    {
     "data": {
      "text/plain": [
       "{0, 2, 23, 30, 32, 34, 43, 45}"
      ]
     },
     "execution_count": 105,
     "metadata": {},
     "output_type": "execute_result"
    }
   ],
   "source": [
    "set(l3)"
   ]
  },
  {
   "cell_type": "code",
   "execution_count": 106,
   "id": "64ce280c-f383-46f3-a519-f01e63ce87f6",
   "metadata": {},
   "outputs": [
    {
     "data": {
      "text/plain": [
       "[32, 0, 34, 2, 43, 45, 23, 30]"
      ]
     },
     "execution_count": 106,
     "metadata": {},
     "output_type": "execute_result"
    }
   ],
   "source": [
    "list(set(l3))"
   ]
  },
  {
   "cell_type": "code",
   "execution_count": 109,
   "id": "48a8dff2-a4c9-47c2-9bca-4600805727f5",
   "metadata": {},
   "outputs": [],
   "source": [
    "s4.add(234)"
   ]
  },
  {
   "cell_type": "code",
   "execution_count": 110,
   "id": "6bf1b86d-1648-49f1-a33d-bf7804537354",
   "metadata": {},
   "outputs": [
    {
     "data": {
      "text/plain": [
       "{2, 2.3, 3, 4, 5, 34, 43, 234}"
      ]
     },
     "execution_count": 110,
     "metadata": {},
     "output_type": "execute_result"
    }
   ],
   "source": [
    "s4"
   ]
  },
  {
   "cell_type": "code",
   "execution_count": 112,
   "id": "fa0c9926-b0f6-4a57-b869-c130acc02a63",
   "metadata": {},
   "outputs": [],
   "source": [
    "s4.remove(2)"
   ]
  },
  {
   "cell_type": "code",
   "execution_count": 113,
   "id": "6f9d050d-c5fb-48af-8452-8f1c186fa8f8",
   "metadata": {},
   "outputs": [
    {
     "data": {
      "text/plain": [
       "{2.3, 3, 4, 5, 34, 43, 234}"
      ]
     },
     "execution_count": 113,
     "metadata": {},
     "output_type": "execute_result"
    }
   ],
   "source": [
    "s4"
   ]
  },
  {
   "cell_type": "code",
   "execution_count": 114,
   "id": "343d6581-33ea-4409-9d15-2b9b509a1a10",
   "metadata": {},
   "outputs": [],
   "source": [
    "#.......Dict.......Dictionary"
   ]
  },
  {
   "cell_type": "code",
   "execution_count": 115,
   "id": "d4f85323-6d7f-4be2-b317-87d7c36d8e61",
   "metadata": {},
   "outputs": [],
   "source": [
    "d= {}"
   ]
  },
  {
   "cell_type": "code",
   "execution_count": 116,
   "id": "ea48a64f-88ae-49f1-90d7-68203e2fef9e",
   "metadata": {},
   "outputs": [
    {
     "data": {
      "text/plain": [
       "dict"
      ]
     },
     "execution_count": 116,
     "metadata": {},
     "output_type": "execute_result"
    }
   ],
   "source": [
    "type(d)"
   ]
  },
  {
   "cell_type": "code",
   "execution_count": 117,
   "id": "cb8ba1e3-3935-4512-a5ba-62cc947f05d3",
   "metadata": {},
   "outputs": [],
   "source": [
    "d1={'key':\"Vinay\"}"
   ]
  },
  {
   "cell_type": "code",
   "execution_count": 118,
   "id": "a6a259ee-ee93-4076-b2f3-eb849f9e194c",
   "metadata": {},
   "outputs": [
    {
     "data": {
      "text/plain": [
       "{'key': 'Vinay'}"
      ]
     },
     "execution_count": 118,
     "metadata": {},
     "output_type": "execute_result"
    }
   ],
   "source": [
    "d1"
   ]
  },
  {
   "cell_type": "code",
   "execution_count": 119,
   "id": "b78b1764-b29b-4185-a3d2-30b8a874b533",
   "metadata": {},
   "outputs": [],
   "source": [
    "d2={'name':'Vinay','email':'easyway@gmail','Number':'7238'}"
   ]
  },
  {
   "cell_type": "code",
   "execution_count": 120,
   "id": "b6be13bb-a4a7-40db-bff2-f03e225313a2",
   "metadata": {},
   "outputs": [
    {
     "data": {
      "text/plain": [
       "{'name': 'Vinay', 'email': 'easyway@gmail', 'Number': '7238'}"
      ]
     },
     "execution_count": 120,
     "metadata": {},
     "output_type": "execute_result"
    }
   ],
   "source": [
    "d2"
   ]
  },
  {
   "cell_type": "code",
   "execution_count": 122,
   "id": "b50c5ad8-2f9e-4980-a78f-1f8725f8f795",
   "metadata": {},
   "outputs": [],
   "source": [
    "d3={233:\"vinay\",'wes':'vivek',True:23412}"
   ]
  },
  {
   "cell_type": "code",
   "execution_count": 123,
   "id": "d4c361b8-ac90-4397-96d2-d4d8bf6925a0",
   "metadata": {},
   "outputs": [
    {
     "data": {
      "text/plain": [
       "{233: 'vinay', 'wes': 'vivek', True: 23412}"
      ]
     },
     "execution_count": 123,
     "metadata": {},
     "output_type": "execute_result"
    }
   ],
   "source": [
    "d3"
   ]
  },
  {
   "cell_type": "code",
   "execution_count": 124,
   "id": "004faf84-7b89-48bd-a605-9e4deec37473",
   "metadata": {},
   "outputs": [
    {
     "data": {
      "text/plain": [
       "'vinay'"
      ]
     },
     "execution_count": 124,
     "metadata": {},
     "output_type": "execute_result"
    }
   ],
   "source": [
    "d3[233]"
   ]
  },
  {
   "cell_type": "code",
   "execution_count": 126,
   "id": "764f0c1f-317d-4fe2-a3f4-dfafe1802a6c",
   "metadata": {},
   "outputs": [
    {
     "data": {
      "text/plain": [
       "23412"
      ]
     },
     "execution_count": 126,
     "metadata": {},
     "output_type": "execute_result"
    }
   ],
   "source": [
    "d3[True]"
   ]
  },
  {
   "cell_type": "code",
   "execution_count": 127,
   "id": "6bac46ae-b7ba-457f-84e3-7df24a056d15",
   "metadata": {},
   "outputs": [
    {
     "data": {
      "text/plain": [
       "23412"
      ]
     },
     "execution_count": 127,
     "metadata": {},
     "output_type": "execute_result"
    }
   ],
   "source": [
    "d3[1]"
   ]
  },
  {
   "cell_type": "code",
   "execution_count": 130,
   "id": "72e17eac-f625-4e09-b0af-5ab61d4e902c",
   "metadata": {},
   "outputs": [],
   "source": [
    "d4={'name':'vinay','mail':\"easywanew\",'name':\"vivek\"}"
   ]
  },
  {
   "cell_type": "code",
   "execution_count": 131,
   "id": "73d6724f-b1de-4986-9a11-d8e5b4537bc7",
   "metadata": {},
   "outputs": [],
   "source": [
    "d5={'company':'pw','course':['python','java','c++']}"
   ]
  },
  {
   "cell_type": "code",
   "execution_count": 132,
   "id": "bb6f0c3d-eaf0-4952-b602-3e0c4809b325",
   "metadata": {},
   "outputs": [
    {
     "data": {
      "text/plain": [
       "'c++'"
      ]
     },
     "execution_count": 132,
     "metadata": {},
     "output_type": "execute_result"
    }
   ],
   "source": [
    "d5['course'][2]"
   ]
  },
  {
   "cell_type": "code",
   "execution_count": 135,
   "id": "ceff0535-8509-4234-a10a-0ecc58c9ddc7",
   "metadata": {},
   "outputs": [],
   "source": [
    "d6={'number':[1,23,433,455,233],'assignment':(1,2,4,4,3,5,6), \"launch\":{12,34,54},'class_time': {'web_page':8,'data_sience':3}}"
   ]
  },
  {
   "cell_type": "code",
   "execution_count": 136,
   "id": "ac177ddf-66da-45bf-9416-9e4a16d085de",
   "metadata": {},
   "outputs": [
    {
     "data": {
      "text/plain": [
       "{'number': [1, 23, 433, 455, 233],\n",
       " 'assignment': (1, 2, 4, 4, 3, 5, 6),\n",
       " 'launch': {12, 34, 54},\n",
       " 'class_time': {'web_page': 8, 'data_sience': 3}}"
      ]
     },
     "execution_count": 136,
     "metadata": {},
     "output_type": "execute_result"
    }
   ],
   "source": [
    "d6"
   ]
  },
  {
   "cell_type": "code",
   "execution_count": 137,
   "id": "7976b55d-4763-4cb5-b179-6f7004f0a055",
   "metadata": {},
   "outputs": [
    {
     "data": {
      "text/plain": [
       "8"
      ]
     },
     "execution_count": 137,
     "metadata": {},
     "output_type": "execute_result"
    }
   ],
   "source": [
    "d6['class_time']['web_page']"
   ]
  },
  {
   "cell_type": "code",
   "execution_count": 138,
   "id": "8c5764de-8d98-49d7-8f7a-eb330f22b6b7",
   "metadata": {},
   "outputs": [],
   "source": [
    "d6['mentor']=[\"vinay\",'vivek','Ravi','vikash']"
   ]
  },
  {
   "cell_type": "code",
   "execution_count": 139,
   "id": "df3be908-ad4e-446f-9e21-735dc46dbb61",
   "metadata": {},
   "outputs": [
    {
     "data": {
      "text/plain": [
       "{'number': [1, 23, 433, 455, 233],\n",
       " 'assignment': (1, 2, 4, 4, 3, 5, 6),\n",
       " 'launch': {12, 34, 54},\n",
       " 'class_time': {'web_page': 8, 'data_sience': 3},\n",
       " 'mentor': ['vinay', 'vivek', 'Ravi', 'vikash']}"
      ]
     },
     "execution_count": 139,
     "metadata": {},
     "output_type": "execute_result"
    }
   ],
   "source": [
    "d6"
   ]
  },
  {
   "cell_type": "code",
   "execution_count": 140,
   "id": "a25a058e-c0b5-4dfd-9bf8-3d71dce13182",
   "metadata": {},
   "outputs": [],
   "source": [
    "del d6['number']"
   ]
  },
  {
   "cell_type": "code",
   "execution_count": 141,
   "id": "cc0c28cb-9d87-4cee-beb2-6ed6558dfc94",
   "metadata": {},
   "outputs": [
    {
     "data": {
      "text/plain": [
       "{'assignment': (1, 2, 4, 4, 3, 5, 6),\n",
       " 'launch': {12, 34, 54},\n",
       " 'class_time': {'web_page': 8, 'data_sience': 3},\n",
       " 'mentor': ['vinay', 'vivek', 'Ravi', 'vikash']}"
      ]
     },
     "execution_count": 141,
     "metadata": {},
     "output_type": "execute_result"
    }
   ],
   "source": [
    "d6"
   ]
  },
  {
   "cell_type": "code",
   "execution_count": 142,
   "id": "ac84dd0b-8908-4653-b09b-0c99886a0408",
   "metadata": {},
   "outputs": [
    {
     "data": {
      "text/plain": [
       "dict_keys(['assignment', 'launch', 'class_time', 'mentor'])"
      ]
     },
     "execution_count": 142,
     "metadata": {},
     "output_type": "execute_result"
    }
   ],
   "source": [
    "d6.keys()"
   ]
  },
  {
   "cell_type": "code",
   "execution_count": 144,
   "id": "775db4f5-8214-4e29-9e1c-8d0467b8b737",
   "metadata": {},
   "outputs": [
    {
     "data": {
      "text/plain": [
       "['assignment', 'launch', 'class_time', 'mentor']"
      ]
     },
     "execution_count": 144,
     "metadata": {},
     "output_type": "execute_result"
    }
   ],
   "source": [
    "list(d6.keys())"
   ]
  },
  {
   "cell_type": "code",
   "execution_count": 145,
   "id": "3499f31f-ed76-4eda-8439-c78f7d7e378d",
   "metadata": {},
   "outputs": [
    {
     "data": {
      "text/plain": [
       "[(1, 2, 4, 4, 3, 5, 6),\n",
       " {12, 34, 54},\n",
       " {'web_page': 8, 'data_sience': 3},\n",
       " ['vinay', 'vivek', 'Ravi', 'vikash']]"
      ]
     },
     "execution_count": 145,
     "metadata": {},
     "output_type": "execute_result"
    }
   ],
   "source": [
    "list(d6.values())"
   ]
  },
  {
   "cell_type": "code",
   "execution_count": 146,
   "id": "f9328d24-e286-48cd-a0ad-a9eb89c127be",
   "metadata": {},
   "outputs": [
    {
     "data": {
      "text/plain": [
       "[('assignment', (1, 2, 4, 4, 3, 5, 6)),\n",
       " ('launch', {12, 34, 54}),\n",
       " ('class_time', {'web_page': 8, 'data_sience': 3}),\n",
       " ('mentor', ['vinay', 'vivek', 'Ravi', 'vikash'])]"
      ]
     },
     "execution_count": 146,
     "metadata": {},
     "output_type": "execute_result"
    }
   ],
   "source": [
    "list(d6.items())"
   ]
  },
  {
   "cell_type": "code",
   "execution_count": 148,
   "id": "022849f1-0366-4997-a7b6-758be1c9ce14",
   "metadata": {},
   "outputs": [
    {
     "data": {
      "text/plain": [
       "{12, 34, 54}"
      ]
     },
     "execution_count": 148,
     "metadata": {},
     "output_type": "execute_result"
    }
   ],
   "source": [
    "d6.pop('launch')"
   ]
  },
  {
   "cell_type": "code",
   "execution_count": 149,
   "id": "2f6eec14-d79d-4b7a-a296-90fa9a34f77c",
   "metadata": {},
   "outputs": [
    {
     "data": {
      "text/plain": [
       "{'assignment': (1, 2, 4, 4, 3, 5, 6),\n",
       " 'class_time': {'web_page': 8, 'data_sience': 3},\n",
       " 'mentor': ['vinay', 'vivek', 'Ravi', 'vikash']}"
      ]
     },
     "execution_count": 149,
     "metadata": {},
     "output_type": "execute_result"
    }
   ],
   "source": [
    "d6"
   ]
  },
  {
   "cell_type": "code",
   "execution_count": null,
   "id": "ef019487-370d-41d6-85ec-973a2f4393ce",
   "metadata": {},
   "outputs": [],
   "source": [
    " "
   ]
  },
  {
   "cell_type": "code",
   "execution_count": 150,
   "id": "d9416055-9c63-4155-8cab-ced0c5ca13a9",
   "metadata": {},
   "outputs": [],
   "source": [
    "#...........Conditiona;"
   ]
  },
  {
   "cell_type": "code",
   "execution_count": 158,
   "id": "89136858-033d-458a-9f60-13d491844a35",
   "metadata": {},
   "outputs": [
    {
     "name": "stdin",
     "output_type": "stream",
     "text": [
      "Enter your Marks 90\n"
     ]
    },
    {
     "name": "stdout",
     "output_type": "stream",
     "text": [
      "you will be a part of A0 batch\n"
     ]
    }
   ],
   "source": [
    "marks = int(input('Enter your Marks', ))\n",
    "if marks >= 80:\n",
    "    print('you will be a part of A0 batch')\n",
    "elif marks >= 60 and marks<80:\n",
    "    print('you are a part of A1 batch')\n",
    "elif marks >= 40 and marks<60:\n",
    "    print('you will a part of A2')\n",
    "else :\n",
    "    print('you will a part of A3 Batch')"
   ]
  },
  {
   "cell_type": "code",
   "execution_count": 155,
   "id": "4316f9e0-92c7-447c-921a-532608eff8f0",
   "metadata": {},
   "outputs": [
    {
     "name": "stdout",
     "output_type": "stream",
     "text": [
      "you will a part of A3 Batch\n"
     ]
    }
   ],
   "source": [
    "marks = 10\n",
    "if marks >= 80:\n",
    "    print('you will be a part of A0 batch')\n",
    "elif marks >= 60 and marks<80:\n",
    "    print('you are a part of A1 batch')\n",
    "elif marks >= 40 and marks<60:\n",
    "    print('you will a part of A2')\n",
    "else :\n",
    "    print('you will a part of A3 Batch')"
   ]
  },
  {
   "cell_type": "code",
   "execution_count": 161,
   "id": "88e3d6ad-bac3-4adb-bb2c-115952a84380",
   "metadata": {},
   "outputs": [
    {
     "name": "stdin",
     "output_type": "stream",
     "text": [
      "Enter price 254\n"
     ]
    },
    {
     "name": "stdout",
     "output_type": "stream",
     "text": [
      "i will purchase\n"
     ]
    }
   ],
   "source": [
    "price = int(input('Enter price', ))\n",
    "if price >1000:\n",
    "    print('i will not pruchase')\n",
    "else:\n",
    "    print('i will purchase')"
   ]
  },
  {
   "cell_type": "code",
   "execution_count": 163,
   "id": "2b9426ea-ae96-43df-9a71-1700f0819497",
   "metadata": {},
   "outputs": [
    {
     "name": "stdin",
     "output_type": "stream",
     "text": [
      "Enter price 5222\n"
     ]
    },
    {
     "name": "stdout",
     "output_type": "stream",
     "text": [
      "i will not pruchase\n",
      "this is too much\n"
     ]
    }
   ],
   "source": [
    "price = int(input('Enter price', ))\n",
    "if price >1000:\n",
    "    print('i will not pruchase')\n",
    "    if price>5000:\n",
    "        print('this is too much')\n",
    "    elif price <2000:\n",
    "        print('Its ok')\n",
    "else:\n",
    "    print('i will purchase')"
   ]
  },
  {
   "cell_type": "code",
   "execution_count": 164,
   "id": "afa0803e-9e20-4d01-9097-00c5db598cd5",
   "metadata": {},
   "outputs": [],
   "source": [
    "#...........LOOP\n"
   ]
  },
  {
   "cell_type": "code",
   "execution_count": 166,
   "id": "b3811c8b-9b8e-4049-bdaa-6aa9936601ec",
   "metadata": {},
   "outputs": [],
   "source": [
    "l=[1,2,34,4,5,6,7,8,44]"
   ]
  },
  {
   "cell_type": "code",
   "execution_count": 167,
   "id": "3c43ed79-a299-4166-a7ec-36d5b75b5464",
   "metadata": {},
   "outputs": [
    {
     "data": {
      "text/plain": [
       "2"
      ]
     },
     "execution_count": 167,
     "metadata": {},
     "output_type": "execute_result"
    }
   ],
   "source": [
    "l[0]+1"
   ]
  },
  {
   "cell_type": "code",
   "execution_count": 170,
   "id": "54bfa46d-9978-4269-ad1b-bbdf36dd697b",
   "metadata": {},
   "outputs": [],
   "source": [
    "l.append(l[0]+1)"
   ]
  },
  {
   "cell_type": "code",
   "execution_count": 171,
   "id": "b09f7a88-7b31-484f-adb4-9e32c15d3175",
   "metadata": {},
   "outputs": [
    {
     "data": {
      "text/plain": [
       "[1, 2, 34, 4, 5, 6, 7, 8, 44, 2]"
      ]
     },
     "execution_count": 171,
     "metadata": {},
     "output_type": "execute_result"
    }
   ],
   "source": [
    "l"
   ]
  },
  {
   "cell_type": "code",
   "execution_count": 172,
   "id": "2fb8d94e-1d30-475c-ae51-7a443d552e08",
   "metadata": {},
   "outputs": [],
   "source": [
    "l=[1,2,34,4,5,6,7,8,44]"
   ]
  },
  {
   "cell_type": "code",
   "execution_count": 173,
   "id": "f3dfcc74-cb39-4164-8514-e669c90ed51d",
   "metadata": {},
   "outputs": [
    {
     "name": "stdout",
     "output_type": "stream",
     "text": [
      "1\n",
      "2\n",
      "34\n",
      "4\n",
      "5\n",
      "6\n",
      "7\n",
      "8\n",
      "44\n"
     ]
    }
   ],
   "source": [
    "for i in l :\n",
    "    print(i)"
   ]
  },
  {
   "cell_type": "code",
   "execution_count": 174,
   "id": "444c94f5-fbd9-47b0-a3d4-2e8fed5cf525",
   "metadata": {},
   "outputs": [
    {
     "name": "stdout",
     "output_type": "stream",
     "text": [
      "2\n",
      "3\n",
      "35\n",
      "5\n",
      "6\n",
      "7\n",
      "8\n",
      "9\n",
      "45\n"
     ]
    }
   ],
   "source": [
    "for i in l:\n",
    "    print(i+1)"
   ]
  },
  {
   "cell_type": "code",
   "execution_count": 180,
   "id": "eac935a3-2238-4ae4-b7e7-006e54a714cf",
   "metadata": {},
   "outputs": [],
   "source": [
    "l=[1,2,34,4,5,6,7,8,44]"
   ]
  },
  {
   "cell_type": "code",
   "execution_count": null,
   "id": "0fd655f6-969c-4d11-ac44-f168bd409dd6",
   "metadata": {},
   "outputs": [],
   "source": [
    "l11=[1,2]\n",
    "for i in l11:\n",
    "    print(i+1)\n",
    "    l11.append(i+1)"
   ]
  },
  {
   "cell_type": "code",
   "execution_count": 185,
   "id": "45e47a9e-6d12-4a26-9c48-afe315189af6",
   "metadata": {},
   "outputs": [
    {
     "data": {
      "text/plain": [
       "[1, 2, 3, 4, 5, 5, 5]"
      ]
     },
     "execution_count": 185,
     "metadata": {},
     "output_type": "execute_result"
    }
   ],
   "source": [
    "l11"
   ]
  },
  {
   "cell_type": "code",
   "execution_count": 184,
   "id": "3560d6c5-15e8-4d6b-9d8a-57569f6d4f15",
   "metadata": {},
   "outputs": [
    {
     "data": {
      "text/plain": [
       "[1, 2, 3, 4, 5, 5, 5]"
      ]
     },
     "execution_count": 184,
     "metadata": {},
     "output_type": "execute_result"
    }
   ],
   "source": []
  },
  {
   "cell_type": "code",
   "execution_count": null,
   "id": "b041b1e7-ada6-4346-8eee-c418bd1419e5",
   "metadata": {},
   "outputs": [],
   "source": []
  }
 ],
 "metadata": {
  "kernelspec": {
   "display_name": "Python 3 (ipykernel)",
   "language": "python",
   "name": "python3"
  },
  "language_info": {
   "codemirror_mode": {
    "name": "ipython",
    "version": 3
   },
   "file_extension": ".py",
   "mimetype": "text/x-python",
   "name": "python",
   "nbconvert_exporter": "python",
   "pygments_lexer": "ipython3",
   "version": "3.10.8"
  }
 },
 "nbformat": 4,
 "nbformat_minor": 5
}
